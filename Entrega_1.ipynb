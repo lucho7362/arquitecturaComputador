{
 "cells": [
  {
   "cell_type": "markdown",
   "metadata": {},
   "source": [
    "# Arquitectura del computador - Politécnico Grancolombiano\n",
    "\n",
    "## Entrega 1\n",
    "\n",
    "### Integrantes\n",
    "\n",
    "- Raúl Enrique Moncada Cod. 100060698\n",
    "- Luis Eduardo Antonio Peña Cod.\n",
    "- Didier jose Hurtado Bohorquez Cod. 2011025894\n",
    "\n",
    "\n",
    "**Índice**\n",
    "\n",
    "1. [Problema](#id1)\n",
    "2. [Algoritmo](#id2)\n",
    "3. [Instrucciones](#id3)\n",
    "\n",
    "## Problema<a name=\"id1\"></a>\n",
    "\n",
    "Se debe construir en lenguaje de alto nivel un algoritmo que permita verificar si un número es primo o no. La teoría nos indica que un número es primo, cuando es divisible por `1` y por sí mismo. \n",
    "Por lo tanto, para resolver este problema, se debe dividir el número a comprobar entre los números menores a este y comprobar su módulo o residuo, si este llega a ser `0` significa que tiene más de un divisor y por lo tanto no es primo.\n",
    "Otra forma de determinarlo, es comprobar que el módulo o residuo sea diferente de `0`, esto significa que no tiene divisores en sus números inferiores y por lo tanto, es primo.\n",
    "\n",
    "## Algoritmo<a name=\"id2\"></a>"
   ]
  },
  {
   "cell_type": "code",
   "execution_count": null,
   "metadata": {},
   "outputs": [],
   "source": [
    "#/usr/bin/python3\n",
    "\n",
    "def esPrimo(num):\n",
    "    if num < 1:\n",
    "        return False\n",
    "    elif num == 2:\n",
    "        return True\n",
    "    else:\n",
    "        for i in range(2, num):\n",
    "            if num % i == 0:\n",
    "                return False\n",
    "        return True            \n",
    "\n",
    "def app():\n",
    "    num = int(input('Escriba un número: '))\n",
    "    result = esPrimo(num)\n",
    "\n",
    "    if result is True:\n",
    "        print('El número es primo!!')\n",
    "    else:\n",
    "        print('El número no es primo!!')\n",
    "\n",
    "if __name__ == '__main__':\n",
    "    app()"
   ]
  },
  {
   "cell_type": "markdown",
   "metadata": {},
   "source": [
    "## Instrucciones<a name=\"id3\"></a>\n",
    "\n",
    "Lorem ipsum"
   ]
  },
  {
   "cell_type": "code",
   "execution_count": null,
   "metadata": {},
   "outputs": [],
   "source": []
  }
 ],
 "metadata": {
  "kernelspec": {
   "display_name": "Python 3",
   "language": "python",
   "name": "python3"
  },
  "language_info": {
   "codemirror_mode": {
    "name": "ipython",
    "version": 3
   },
   "file_extension": ".py",
   "mimetype": "text/x-python",
   "name": "python",
   "nbconvert_exporter": "python",
   "pygments_lexer": "ipython3",
   "version": "3.7.6"
  }
 },
 "nbformat": 4,
 "nbformat_minor": 4
}
