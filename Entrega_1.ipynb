{
 "cells": [
  {
   "cell_type": "markdown",
   "metadata": {},
   "source": [
    "# Arquitectura del computador - Politécnico Grancolombiano\n",
    "\n",
    "## Entrega 1\n",
    "\n",
    "### Integrantes\n",
    "\n",
    "- Raúl Enrique Moncada Cod. 100060698\n",
    "- Luis Eduardo Antonio Peña Cod.\n",
    "- Didier jose Hurtado Bohorquez Cod. 2011025894\n",
    "\n",
    "\n",
    "**Índice**\n",
    "\n",
    "1. [Problema](#id1)\n",
    "2. [Algoritmo](#id2)\n",
    "3. [Instrucciones](#id3)\n",
    "\n",
    "## Problema<a name=\"id1\"></a>\n",
    "\n",
    "Lorem ipsum\n",
    "\n",
    "## Algoritmo<a name=\"id2\"></a>"
   ]
  },
  {
   "cell_type": "code",
   "execution_count": null,
   "metadata": {},
   "outputs": [],
   "source": [
    "#/usr/bin/python3\n",
    "\n",
    "\"\"\"\n",
    "Acá el código del algoritmo\n",
    "\"\"\""
   ]
  },
  {
   "cell_type": "markdown",
   "metadata": {},
   "source": [
    "## Instrucciones<a name=\"id3\"></a>\n",
    "\n",
    "Lorem ipsum"
   ]
  },
  {
   "cell_type": "code",
   "execution_count": null,
   "metadata": {},
   "outputs": [],
   "source": []
  }
 ],
 "metadata": {
  "kernelspec": {
   "display_name": "Python 3",
   "language": "python",
   "name": "python3"
  },
  "language_info": {
   "codemirror_mode": {
    "name": "ipython",
    "version": 3
   },
   "file_extension": ".py",
   "mimetype": "text/x-python",
   "name": "python",
   "nbconvert_exporter": "python",
   "pygments_lexer": "ipython3",
   "version": "3.7.6"
  }
 },
 "nbformat": 4,
 "nbformat_minor": 4
}
